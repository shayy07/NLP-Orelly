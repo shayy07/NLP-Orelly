{
  "metadata": {
    "language_info": {
      "codemirror_mode": {
        "name": "python",
        "version": 3
      },
      "file_extension": ".py",
      "mimetype": "text/x-python",
      "name": "python",
      "nbconvert_exporter": "python",
      "pygments_lexer": "ipython3",
      "version": "3.8"
    },
    "kernelspec": {
      "name": "python",
      "display_name": "Pyolite",
      "language": "python"
    }
  },
  "nbformat_minor": 4,
  "nbformat": 4,
  "cells": [
    {
      "cell_type": "markdown",
      "source": "# 1.1 数学与Python",
      "metadata": {}
    },
    {
      "cell_type": "markdown",
      "source": "## 1.1.1 向量和矩阵",
      "metadata": {}
    },
    {
      "cell_type": "markdown",
      "source": "<b>向量</b> 一维数组</br>\n<b>矩阵</b> 二维数组</br>\n<b>张量</b> 将向量和矩阵扩展到N维数据的集合",
      "metadata": {}
    },
    {
      "cell_type": "markdown",
      "source": "在Python中用标准库NumPy来构成向量、矩阵",
      "metadata": {}
    },
    {
      "cell_type": "code",
      "source": "import numpy as np",
      "metadata": {
        "trusted": true
      },
      "execution_count": null,
      "outputs": []
    },
    {
      "cell_type": "code",
      "source": "##可以用narray来生成向量或矩阵\nx = np.array([1,2,3])",
      "metadata": {
        "trusted": true
      },
      "execution_count": null,
      "outputs": []
    },
    {
      "cell_type": "code",
      "source": "x._class_",
      "metadata": {
        "trusted": true
      },
      "execution_count": null,
      "outputs": []
    },
    {
      "cell_type": "code",
      "source": "",
      "metadata": {},
      "execution_count": null,
      "outputs": []
    }
  ]
}